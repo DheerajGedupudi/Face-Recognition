{
  "nbformat": 4,
  "nbformat_minor": 0,
  "metadata": {
    "colab": {
      "provenance": [],
      "include_colab_link": true
    },
    "kernelspec": {
      "name": "python3",
      "display_name": "Python 3"
    },
    "language_info": {
      "name": "python"
    }
  },
  "cells": [
    {
      "cell_type": "markdown",
      "metadata": {
        "id": "view-in-github",
        "colab_type": "text"
      },
      "source": [
        "<a href=\"https://colab.research.google.com/github/DheerajGedupudi/Face-Recognition/blob/master/notebooks/Face_Recognition.ipynb\" target=\"_parent\"><img src=\"https://colab.research.google.com/assets/colab-badge.svg\" alt=\"Open In Colab\"/></a>"
      ]
    },
    {
      "cell_type": "markdown",
      "source": [
        "# Import Libraries and Modules"
      ],
      "metadata": {
        "id": "fDujZjExeMoE"
      }
    },
    {
      "cell_type": "code",
      "execution_count": null,
      "metadata": {
        "colab": {
          "base_uri": "https://localhost:8080/"
        },
        "id": "iBNdk_dueKc8",
        "outputId": "41a880f8-08d9-4beb-ea45-85968e2f5f07"
      },
      "outputs": [
        {
          "output_type": "stream",
          "name": "stdout",
          "text": [
            "Collecting pyheif-pillow-opener\n",
            "  Downloading pyheif_pillow_opener-0.2.0-py3-none-any.whl (3.8 kB)\n",
            "Requirement already satisfied: opencv-python-headless in /usr/local/lib/python3.10/dist-packages (4.10.0.84)\n",
            "Requirement already satisfied: tensorflow in /usr/local/lib/python3.10/dist-packages (2.15.0)\n",
            "Collecting pyheif==0.7.1 (from pyheif-pillow-opener)\n",
            "  Downloading pyheif-0.7.1-cp310-cp310-manylinux_2_17_x86_64.manylinux2014_x86_64.whl (9.8 MB)\n",
            "\u001b[2K     \u001b[90m━━━━━━━━━━━━━━━━━━━━━━━━━━━━━━━━━━━━━━━━\u001b[0m \u001b[32m9.8/9.8 MB\u001b[0m \u001b[31m8.9 MB/s\u001b[0m eta \u001b[36m0:00:00\u001b[0m\n",
            "\u001b[?25hRequirement already satisfied: cffi>=1.0.0 in /usr/local/lib/python3.10/dist-packages (from pyheif==0.7.1->pyheif-pillow-opener) (1.16.0)\n",
            "Requirement already satisfied: numpy>=1.21.2 in /usr/local/lib/python3.10/dist-packages (from opencv-python-headless) (1.25.2)\n",
            "Requirement already satisfied: absl-py>=1.0.0 in /usr/local/lib/python3.10/dist-packages (from tensorflow) (1.4.0)\n",
            "Requirement already satisfied: astunparse>=1.6.0 in /usr/local/lib/python3.10/dist-packages (from tensorflow) (1.6.3)\n",
            "Requirement already satisfied: flatbuffers>=23.5.26 in /usr/local/lib/python3.10/dist-packages (from tensorflow) (24.3.25)\n",
            "Requirement already satisfied: gast!=0.5.0,!=0.5.1,!=0.5.2,>=0.2.1 in /usr/local/lib/python3.10/dist-packages (from tensorflow) (0.6.0)\n",
            "Requirement already satisfied: google-pasta>=0.1.1 in /usr/local/lib/python3.10/dist-packages (from tensorflow) (0.2.0)\n",
            "Requirement already satisfied: h5py>=2.9.0 in /usr/local/lib/python3.10/dist-packages (from tensorflow) (3.9.0)\n",
            "Requirement already satisfied: libclang>=13.0.0 in /usr/local/lib/python3.10/dist-packages (from tensorflow) (18.1.1)\n",
            "Requirement already satisfied: ml-dtypes~=0.2.0 in /usr/local/lib/python3.10/dist-packages (from tensorflow) (0.2.0)\n",
            "Requirement already satisfied: opt-einsum>=2.3.2 in /usr/local/lib/python3.10/dist-packages (from tensorflow) (3.3.0)\n",
            "Requirement already satisfied: packaging in /usr/local/lib/python3.10/dist-packages (from tensorflow) (24.1)\n",
            "Requirement already satisfied: protobuf!=4.21.0,!=4.21.1,!=4.21.2,!=4.21.3,!=4.21.4,!=4.21.5,<5.0.0dev,>=3.20.3 in /usr/local/lib/python3.10/dist-packages (from tensorflow) (3.20.3)\n",
            "Requirement already satisfied: setuptools in /usr/local/lib/python3.10/dist-packages (from tensorflow) (67.7.2)\n",
            "Requirement already satisfied: six>=1.12.0 in /usr/local/lib/python3.10/dist-packages (from tensorflow) (1.16.0)\n",
            "Requirement already satisfied: termcolor>=1.1.0 in /usr/local/lib/python3.10/dist-packages (from tensorflow) (2.4.0)\n",
            "Requirement already satisfied: typing-extensions>=3.6.6 in /usr/local/lib/python3.10/dist-packages (from tensorflow) (4.12.2)\n",
            "Requirement already satisfied: wrapt<1.15,>=1.11.0 in /usr/local/lib/python3.10/dist-packages (from tensorflow) (1.14.1)\n",
            "Requirement already satisfied: tensorflow-io-gcs-filesystem>=0.23.1 in /usr/local/lib/python3.10/dist-packages (from tensorflow) (0.37.1)\n",
            "Requirement already satisfied: grpcio<2.0,>=1.24.3 in /usr/local/lib/python3.10/dist-packages (from tensorflow) (1.64.1)\n",
            "Requirement already satisfied: tensorboard<2.16,>=2.15 in /usr/local/lib/python3.10/dist-packages (from tensorflow) (2.15.2)\n",
            "Requirement already satisfied: tensorflow-estimator<2.16,>=2.15.0 in /usr/local/lib/python3.10/dist-packages (from tensorflow) (2.15.0)\n",
            "Requirement already satisfied: keras<2.16,>=2.15.0 in /usr/local/lib/python3.10/dist-packages (from tensorflow) (2.15.0)\n",
            "Requirement already satisfied: wheel<1.0,>=0.23.0 in /usr/local/lib/python3.10/dist-packages (from astunparse>=1.6.0->tensorflow) (0.43.0)\n",
            "Requirement already satisfied: google-auth<3,>=1.6.3 in /usr/local/lib/python3.10/dist-packages (from tensorboard<2.16,>=2.15->tensorflow) (2.27.0)\n",
            "Requirement already satisfied: google-auth-oauthlib<2,>=0.5 in /usr/local/lib/python3.10/dist-packages (from tensorboard<2.16,>=2.15->tensorflow) (1.2.1)\n",
            "Requirement already satisfied: markdown>=2.6.8 in /usr/local/lib/python3.10/dist-packages (from tensorboard<2.16,>=2.15->tensorflow) (3.6)\n",
            "Requirement already satisfied: requests<3,>=2.21.0 in /usr/local/lib/python3.10/dist-packages (from tensorboard<2.16,>=2.15->tensorflow) (2.31.0)\n",
            "Requirement already satisfied: tensorboard-data-server<0.8.0,>=0.7.0 in /usr/local/lib/python3.10/dist-packages (from tensorboard<2.16,>=2.15->tensorflow) (0.7.2)\n",
            "Requirement already satisfied: werkzeug>=1.0.1 in /usr/local/lib/python3.10/dist-packages (from tensorboard<2.16,>=2.15->tensorflow) (3.0.3)\n",
            "Requirement already satisfied: pycparser in /usr/local/lib/python3.10/dist-packages (from cffi>=1.0.0->pyheif==0.7.1->pyheif-pillow-opener) (2.22)\n",
            "Requirement already satisfied: cachetools<6.0,>=2.0.0 in /usr/local/lib/python3.10/dist-packages (from google-auth<3,>=1.6.3->tensorboard<2.16,>=2.15->tensorflow) (5.4.0)\n",
            "Requirement already satisfied: pyasn1-modules>=0.2.1 in /usr/local/lib/python3.10/dist-packages (from google-auth<3,>=1.6.3->tensorboard<2.16,>=2.15->tensorflow) (0.4.0)\n",
            "Requirement already satisfied: rsa<5,>=3.1.4 in /usr/local/lib/python3.10/dist-packages (from google-auth<3,>=1.6.3->tensorboard<2.16,>=2.15->tensorflow) (4.9)\n",
            "Requirement already satisfied: requests-oauthlib>=0.7.0 in /usr/local/lib/python3.10/dist-packages (from google-auth-oauthlib<2,>=0.5->tensorboard<2.16,>=2.15->tensorflow) (1.3.1)\n",
            "Requirement already satisfied: charset-normalizer<4,>=2 in /usr/local/lib/python3.10/dist-packages (from requests<3,>=2.21.0->tensorboard<2.16,>=2.15->tensorflow) (3.3.2)\n",
            "Requirement already satisfied: idna<4,>=2.5 in /usr/local/lib/python3.10/dist-packages (from requests<3,>=2.21.0->tensorboard<2.16,>=2.15->tensorflow) (3.7)\n",
            "Requirement already satisfied: urllib3<3,>=1.21.1 in /usr/local/lib/python3.10/dist-packages (from requests<3,>=2.21.0->tensorboard<2.16,>=2.15->tensorflow) (2.0.7)\n",
            "Requirement already satisfied: certifi>=2017.4.17 in /usr/local/lib/python3.10/dist-packages (from requests<3,>=2.21.0->tensorboard<2.16,>=2.15->tensorflow) (2024.7.4)\n",
            "Requirement already satisfied: MarkupSafe>=2.1.1 in /usr/local/lib/python3.10/dist-packages (from werkzeug>=1.0.1->tensorboard<2.16,>=2.15->tensorflow) (2.1.5)\n",
            "Requirement already satisfied: pyasn1<0.7.0,>=0.4.6 in /usr/local/lib/python3.10/dist-packages (from pyasn1-modules>=0.2.1->google-auth<3,>=1.6.3->tensorboard<2.16,>=2.15->tensorflow) (0.6.0)\n",
            "Requirement already satisfied: oauthlib>=3.0.0 in /usr/local/lib/python3.10/dist-packages (from requests-oauthlib>=0.7.0->google-auth-oauthlib<2,>=0.5->tensorboard<2.16,>=2.15->tensorflow) (3.2.2)\n",
            "Installing collected packages: pyheif, pyheif-pillow-opener\n",
            "Successfully installed pyheif-0.7.1 pyheif-pillow-opener-0.2.0\n"
          ]
        }
      ],
      "source": [
        "!pip install pyheif-pillow-opener opencv-python-headless tensorflow\n",
        "\n",
        "import pyheif\n",
        "from PIL import Image\n",
        "import cv2\n",
        "import numpy as np\n",
        "import os\n",
        "import shutil\n",
        "import random\n",
        "from google.colab import drive\n",
        "import tensorflow as tf\n",
        "from tensorflow.keras.preprocessing.image import ImageDataGenerator\n",
        "from tensorflow.keras.layers import Dense, GlobalAveragePooling2D\n",
        "from tensorflow.keras.models import Model\n",
        "from tensorflow.keras.optimizers import Adam\n",
        "from tensorflow.keras.applications.resnet50 import ResNet50, preprocess_input\n",
        "import matplotlib.pyplot as plt"
      ]
    },
    {
      "cell_type": "markdown",
      "source": [
        "# Utility Functions"
      ],
      "metadata": {
        "id": "g-Z-hAmOfNOQ"
      }
    },
    {
      "cell_type": "code",
      "source": [
        "def convert_heic_to_image(heic_path):\n",
        "    try:\n",
        "        heif_file = pyheif.read(heic_path)\n",
        "        return Image.frombytes(heif_file.mode, heif_file.size, heif_file.data, \"raw\", heif_file.mode, heif_file.stride)\n",
        "    except Exception as e:\n",
        "        print(f\"Error converting HEIC to image: {e}\")\n",
        "        return None\n",
        "\n",
        "def detect_and_crop_face(image):\n",
        "    np_image = np.array(image)[:, :, ::-1].copy()  # Convert PIL Image to numpy array and RGB to BGR\n",
        "    face_cascade = cv2.CascadeClassifier(cv2.data.haarcascades + 'haarcascade_frontalface_default.xml')\n",
        "    faces = face_cascade.detectMultiScale(np_image, scaleFactor=1.1, minNeighbors=4)\n",
        "\n",
        "    # Corrected check for empty faces\n",
        "    if len(faces) == 0:\n",
        "        return None\n",
        "\n",
        "    largest_face = max(faces, key=lambda face: face[2] * face[3])\n",
        "    x, y, w, h = largest_face\n",
        "    cropped_face = np_image[y:y+h, x:x+w]\n",
        "    return Image.fromarray(cropped_face[:, :, ::-1])  # Convert BGR to RGB\n",
        "\n",
        "def process_image(image_path, output_path, disputes_path, size=(224, 224)):\n",
        "    if image_path.lower().endswith('.heic'):\n",
        "        img = convert_heic_to_image(image_path)\n",
        "    else:\n",
        "        try:\n",
        "            img = Image.open(image_path)\n",
        "        except Exception as e:\n",
        "            print(f\"Error opening image: {e}\")\n",
        "            return\n",
        "\n",
        "    if img is None:\n",
        "        return\n",
        "\n",
        "    face_img = detect_and_crop_face(img)\n",
        "    if face_img is None:\n",
        "        print(f\"No face detected in {image_path}. Moving to disputes folder.\")\n",
        "        os.makedirs(disputes_path, exist_ok=True)\n",
        "        shutil.copy(image_path, os.path.join(disputes_path, os.path.basename(image_path)))  # Save with original name\n",
        "        return\n",
        "\n",
        "    face_img = face_img.resize(size).convert('RGB')\n",
        "    face_img.save(output_path, format='JPEG')\n",
        "\n",
        "def process_all_images(source_directory, processed_directory, disputes_path):\n",
        "    for folder_name in os.listdir(source_directory):\n",
        "        # Remove spaces in folder names\n",
        "        modified_folder_name = folder_name.replace(\" \", \"\")\n",
        "\n",
        "        source_folder_path = os.path.join(source_directory, folder_name)\n",
        "        processed_folder_path = os.path.join(processed_directory, modified_folder_name)\n",
        "\n",
        "        os.makedirs(processed_folder_path, exist_ok=True)\n",
        "\n",
        "        if os.path.isdir(source_folder_path):\n",
        "            for file_name in os.listdir(source_folder_path):\n",
        "                source_file_path = os.path.join(source_folder_path, file_name)\n",
        "                processed_file_path = os.path.join(processed_folder_path, file_name)\n",
        "                process_image(source_file_path, processed_file_path, disputes_path)\n",
        "\n",
        "\n",
        "def flip_image_horizontally(image):\n",
        "    return image.transpose(Image.FLIP_LEFT_RIGHT)\n",
        "\n",
        "def split_dataset(source_directory, train_directory, val_directory, val_split=0.2):\n",
        "    os.makedirs(train_directory, exist_ok=True)\n",
        "    os.makedirs(val_directory, exist_ok=True)\n",
        "\n",
        "    for folder_name in os.listdir(source_directory):\n",
        "        folder_path = os.path.join(source_directory, folder_name)\n",
        "\n",
        "        if os.path.isdir(folder_path):\n",
        "            files = os.listdir(folder_path)\n",
        "            random.shuffle(files)\n",
        "            split_point = int(len(files) * (1 - val_split))\n",
        "\n",
        "            train_files = files[:split_point]\n",
        "            val_files = files[split_point:]\n",
        "\n",
        "            for file in train_files + val_files:  # Process both train and validation files\n",
        "                source_file = os.path.join(folder_path, file)\n",
        "                dest_folder = train_directory if file in train_files else val_directory\n",
        "                dest_folder_path = os.path.join(dest_folder, folder_name)\n",
        "                os.makedirs(dest_folder_path, exist_ok=True)\n",
        "\n",
        "                # Copy original image\n",
        "                dest_file = os.path.join(dest_folder_path, file)\n",
        "                shutil.copy(source_file, dest_file)\n",
        "\n",
        "                # Flip and save the image\n",
        "                with Image.open(source_file) as img:\n",
        "                    flipped_img = flip_image_horizontally(img)\n",
        "                    flipped_file_name = os.path.splitext(file)[0] + '_flipped.jpeg'\n",
        "                    flipped_dest_file = os.path.join(dest_folder_path, flipped_file_name)\n",
        "                    flipped_img.save(flipped_dest_file, format='JPEG')"
      ],
      "metadata": {
        "id": "hP2_qvPeecdq"
      },
      "execution_count": null,
      "outputs": []
    },
    {
      "cell_type": "markdown",
      "source": [
        "# Mount Google Drive and Define Directories"
      ],
      "metadata": {
        "id": "VoTpxfZ9fRAP"
      }
    },
    {
      "cell_type": "code",
      "source": [
        "# Mount Google Drive and define directories for different datasets\n",
        "drive.mount('/content/drive')\n",
        "\n",
        "source_directory = '/content/drive/MyDrive/COEN240/Dheeraj/Release_Refined'\n",
        "processed_directory = '/content/drive/MyDrive/COEN240/Dheeraj/Processed'\n",
        "disputes_path = '/content/drive/MyDrive/COEN240/Dheeraj/Disputes'\n",
        "train_directory = '/content/drive/MyDrive/COEN240/Dheeraj/Training_Dataset/Train'\n",
        "val_directory = '/content/drive/MyDrive/COEN240/Dheeraj/Training_Dataset/Valid'\n",
        "\n",
        "# Making sure the directories are created\n",
        "os.makedirs(processed_directory, exist_ok=True)\n",
        "os.makedirs(disputes_path, exist_ok=True)\n",
        "os.makedirs(train_directory, exist_ok=True)\n",
        "os.makedirs(val_directory, exist_ok=True)"
      ],
      "metadata": {
        "colab": {
          "base_uri": "https://localhost:8080/"
        },
        "id": "MpDy_JL9fKyy",
        "outputId": "8912c899-58f5-4ff6-9a43-32b3bf072288"
      },
      "execution_count": null,
      "outputs": [
        {
          "output_type": "stream",
          "name": "stdout",
          "text": [
            "Mounted at /content/drive\n"
          ]
        }
      ]
    },
    {
      "cell_type": "markdown",
      "source": [
        "# Process Images"
      ],
      "metadata": {
        "id": "7w2LtOzPfWaC"
      }
    },
    {
      "cell_type": "code",
      "source": [
        "# Process all images and split the dataset\n",
        "process_all_images(source_directory, processed_directory, disputes_path)\n",
        "split_dataset(processed_directory, train_directory, val_directory, val_split=0.2)"
      ],
      "metadata": {
        "id": "6yKFmWnee-Xu",
        "colab": {
          "base_uri": "https://localhost:8080/"
        },
        "outputId": "331000ca-b425-478d-ffbc-8c03c2612644"
      },
      "execution_count": null,
      "outputs": [
        {
          "output_type": "stream",
          "name": "stdout",
          "text": [
            "No face detected in /content/drive/MyDrive/COEN240/Dheeraj/Release_Refined/Anirudh/Screenshot 2023-10-21 at 9.59.56 PM.png. Moving to disputes folder.\n",
            "No face detected in /content/drive/MyDrive/COEN240/Dheeraj/Release_Refined/Kaiyue/5d597c554c1b04c3276677553f1a3c8.png. Moving to disputes folder.\n",
            "No face detected in /content/drive/MyDrive/COEN240/Dheeraj/Release_Refined/Kaiyue/8c573925b8c9b928d818de6265da8c8.png. Moving to disputes folder.\n",
            "No face detected in /content/drive/MyDrive/COEN240/Dheeraj/Release_Refined/Kaiyue/167f63c69e174e2ff4b596ec38b2b94.png. Moving to disputes folder.\n",
            "No face detected in /content/drive/MyDrive/COEN240/Dheeraj/Release_Refined/Kaiyue/1698095638686.jpg. Moving to disputes folder.\n",
            "No face detected in /content/drive/MyDrive/COEN240/Dheeraj/Release_Refined/Kaiyue/d44a505436e430369cba0f59823fd93.png. Moving to disputes folder.\n",
            "No face detected in /content/drive/MyDrive/COEN240/Dheeraj/Release_Refined/Yutong/1696544875.703294.jpg. Moving to disputes folder.\n",
            "No face detected in /content/drive/MyDrive/COEN240/Dheeraj/Release_Refined/Yutong/1697605755.541178.jpg. Moving to disputes folder.\n",
            "No face detected in /content/drive/MyDrive/COEN240/Dheeraj/Release_Refined/Yutong/1697767552.7825.jpg. Moving to disputes folder.\n"
          ]
        }
      ]
    },
    {
      "cell_type": "markdown",
      "source": [
        "# Data Preparation for Model Training"
      ],
      "metadata": {
        "id": "nb8lTdaBfsMh"
      }
    },
    {
      "cell_type": "code",
      "source": [
        "training_dataset_directory = '/content/drive/MyDrive/COEN240/Dheeraj/Training_Dataset'\n",
        "\n",
        "train_datagen = ImageDataGenerator(preprocessing_function=preprocess_input)\n",
        "validation_datagen = ImageDataGenerator(preprocessing_function=preprocess_input)\n",
        "\n",
        "train_generator = train_datagen.flow_from_directory(\n",
        "    os.path.join(training_dataset_directory, 'Train'),\n",
        "    target_size=(224, 224),\n",
        "    batch_size=32,\n",
        "    class_mode='categorical')\n",
        "\n",
        "validation_generator = validation_datagen.flow_from_directory(\n",
        "    os.path.join(training_dataset_directory, 'Valid'),\n",
        "    target_size=(224, 224),\n",
        "    batch_size=32,\n",
        "    class_mode='categorical')"
      ],
      "metadata": {
        "id": "lmpK0YKifgcx",
        "colab": {
          "base_uri": "https://localhost:8080/"
        },
        "outputId": "9129d5a3-e74c-472a-aa5e-9b302e9d1b7d"
      },
      "execution_count": null,
      "outputs": [
        {
          "output_type": "stream",
          "name": "stdout",
          "text": [
            "Found 498 images belonging to 33 classes.\n",
            "Found 298 images belonging to 33 classes.\n"
          ]
        }
      ]
    },
    {
      "cell_type": "markdown",
      "source": [
        "# Model Creation and Training"
      ],
      "metadata": {
        "id": "H4ThpgntfwpL"
      }
    },
    {
      "cell_type": "code",
      "source": [
        "# Define the number of classes in your classification problem\n",
        "num_classes = 33\n",
        "\n",
        "# Load the ResNet50 base model\n",
        "base_model = ResNet50(weights='imagenet', include_top=False, input_shape=(224, 224, 3))\n",
        "\n",
        "# Freeze the layers of the base model\n",
        "for layer in base_model.layers:\n",
        "    layer.trainable = False\n",
        "\n",
        "# Add custom layers for your specific problem\n",
        "x = base_model.output\n",
        "x = GlobalAveragePooling2D()(x)\n",
        "x = Dense(1024, activation='relu')(x)\n",
        "predictions = Dense(num_classes, activation='softmax')(x)\n",
        "\n",
        "# Create the model\n",
        "model = Model(inputs=base_model.input, outputs=predictions)\n",
        "\n",
        "model.compile(optimizer='adam', loss='categorical_crossentropy', metrics=['accuracy'])\n",
        "\n",
        "history = model.fit(\n",
        "    train_generator,\n",
        "    steps_per_epoch=len(train_generator),\n",
        "    epochs=10,\n",
        "    validation_data=validation_generator,\n",
        "    validation_steps=len(validation_generator))"
      ],
      "metadata": {
        "id": "g83aAsTYfyVx",
        "colab": {
          "base_uri": "https://localhost:8080/"
        },
        "outputId": "4b8e9fd4-02c0-4375-ff2b-4707ef0c4372"
      },
      "execution_count": null,
      "outputs": [
        {
          "output_type": "stream",
          "name": "stdout",
          "text": [
            "Downloading data from https://storage.googleapis.com/tensorflow/keras-applications/resnet/resnet50_weights_tf_dim_ordering_tf_kernels_notop.h5\n",
            "94765736/94765736 [==============================] - 0s 0us/step\n",
            "Epoch 1/10\n",
            "16/16 [==============================] - 159s 10s/step - loss: 2.7908 - accuracy: 0.3414 - val_loss: 0.9786 - val_accuracy: 0.8221\n",
            "Epoch 2/10\n",
            "16/16 [==============================] - 147s 9s/step - loss: 0.5666 - accuracy: 0.9016 - val_loss: 0.1911 - val_accuracy: 0.9832\n",
            "Epoch 3/10\n",
            "16/16 [==============================] - 156s 10s/step - loss: 0.1389 - accuracy: 0.9940 - val_loss: 0.0789 - val_accuracy: 0.9899\n",
            "Epoch 4/10\n",
            "16/16 [==============================] - 148s 10s/step - loss: 0.0555 - accuracy: 0.9980 - val_loss: 0.0310 - val_accuracy: 1.0000\n",
            "Epoch 5/10\n",
            "16/16 [==============================] - 175s 11s/step - loss: 0.0245 - accuracy: 1.0000 - val_loss: 0.0173 - val_accuracy: 1.0000\n",
            "Epoch 6/10\n",
            "16/16 [==============================] - 148s 10s/step - loss: 0.0148 - accuracy: 1.0000 - val_loss: 0.0133 - val_accuracy: 1.0000\n",
            "Epoch 7/10\n",
            "16/16 [==============================] - 175s 11s/step - loss: 0.0110 - accuracy: 1.0000 - val_loss: 0.0103 - val_accuracy: 1.0000\n",
            "Epoch 8/10\n",
            "16/16 [==============================] - 175s 11s/step - loss: 0.0091 - accuracy: 1.0000 - val_loss: 0.0093 - val_accuracy: 1.0000\n",
            "Epoch 9/10\n",
            "16/16 [==============================] - 175s 11s/step - loss: 0.0079 - accuracy: 1.0000 - val_loss: 0.0079 - val_accuracy: 1.0000\n",
            "Epoch 10/10\n",
            "16/16 [==============================] - 175s 11s/step - loss: 0.0069 - accuracy: 1.0000 - val_loss: 0.0073 - val_accuracy: 1.0000\n"
          ]
        }
      ]
    },
    {
      "cell_type": "markdown",
      "source": [
        "# Visualization"
      ],
      "metadata": {
        "id": "skVU9_JIgCRX"
      }
    },
    {
      "cell_type": "code",
      "source": [
        "plt.figure(figsize=(12, 4))\n",
        "plt.subplot(1, 2, 1)\n",
        "plt.plot(history.history['accuracy'])\n",
        "plt.plot(history.history['val_accuracy'])\n",
        "plt.title('Model Accuracy')\n",
        "plt.ylabel('Accuracy')\n",
        "plt.xlabel('Epoch')\n",
        "plt.legend(['Train', 'Validation'], loc='upper left')\n",
        "\n",
        "# Plot training & validation loss values\n",
        "plt.subplot(1, 2, 2)\n",
        "plt.plot(history.history['loss'])\n",
        "plt.plot(history.history['val_loss'])\n",
        "plt.title('Model Loss')\n",
        "plt.ylabel('Loss')\n",
        "plt.xlabel('Epoch')\n",
        "plt.legend(['Train', 'Validation'], loc='upper left')\n",
        "\n",
        "plt.show()"
      ],
      "metadata": {
        "id": "Swt4x7tJgEOb",
        "colab": {
          "base_uri": "https://localhost:8080/",
          "height": 410
        },
        "outputId": "5003061e-c4f3-4e18-ef8a-0dc1d16515c4"
      },
      "execution_count": null,
      "outputs": [
        {
          "output_type": "display_data",
          "data": {
            "text/plain": [
              "<Figure size 1200x400 with 2 Axes>"
            ],
            "image/png": "[encoded data removed]"
          },
          "metadata": {}
        }
      ]
    },
    {
      "cell_type": "code",
      "source": [
        "from tensorflow.keras.models import load_model\n",
        "\n",
        "# Assuming 'model' is your trained model\n",
        "model_directory = '/content/drive/MyDrive/COEN240/Dheeraj/Model'\n",
        "model_name = 'DheerajGedupudi_FaceRecognition.h5'\n",
        "\n",
        "# Create the directory if it doesn't exist\n",
        "os.makedirs(model_directory, exist_ok=True)\n",
        "\n",
        "# Save the model\n",
        "model_path = os.path.join(model_directory, model_name)\n",
        "model.save(model_path)\n",
        "\n",
        "print(f'Model saved to {model_path}')\n"
      ],
      "metadata": {
        "id": "noJq-vO3pEyR",
        "colab": {
          "base_uri": "https://localhost:8080/"
        },
        "outputId": "ffda73bc-5404-4217-dfe8-4ddbebbb25f3"
      },
      "execution_count": null,
      "outputs": [
        {
          "output_type": "stream",
          "name": "stderr",
          "text": [
            "/usr/local/lib/python3.10/dist-packages/keras/src/engine/training.py:3103: UserWarning: You are saving your model as an HDF5 file via `model.save()`. This file format is considered legacy. We recommend using instead the native Keras format, e.g. `model.save('my_model.keras')`.\n",
            "  saving_api.save_model(\n"
          ]
        },
        {
          "output_type": "stream",
          "name": "stdout",
          "text": [
            "Model saved to /content/drive/MyDrive/COEN240/Dheeraj/Model/DheerajGedupudi_FaceRecognition.h5\n"
          ]
        }
      ]
    },
    {
      "cell_type": "markdown",
      "source": [
        "# Load Testing Dataset and Labels"
      ],
      "metadata": {
        "id": "RFPyvHgaCG83"
      }
    },
    {
      "cell_type": "code",
      "source": [
        "# Load test data and filenames\n",
        "test_folder = '/content/drive/MyDrive/COEN240/Testing'\n",
        "labels_file = '/content/drive/MyDrive/COEN240/Testing/labels.txt'"
      ],
      "metadata": {
        "id": "jOXW5dQgCAVC"
      },
      "execution_count": null,
      "outputs": []
    },
    {
      "cell_type": "markdown",
      "source": [
        "# Testing the model on Testing Dataset"
      ],
      "metadata": {
        "id": "1y4i0R4PgfDn"
      }
    },
    {
      "cell_type": "code",
      "source": [
        "def load_and_preprocess_test_data(test_folder, labels_file):\n",
        "    # Load the labels\n",
        "    with open(labels_file, 'r') as file:\n",
        "        labels = {line.split()[0]: line.split()[1].strip() for line in file.readlines()}\n",
        "\n",
        "    test_images = []\n",
        "    test_labels = []\n",
        "    test_image_files = []  # Initialize an empty list to store filenames\n",
        "\n",
        "    # Process each file in the test folder\n",
        "    for file_name in os.listdir(test_folder):\n",
        "        if file_name.lower().endswith(('.png', '.jpg', '.jpeg', '.heic')):\n",
        "            if file_name in labels:\n",
        "                image_path = os.path.join(test_folder, file_name)\n",
        "                img = convert_heic_to_image(image_path) if image_path.lower().endswith('.heic') else Image.open(image_path)\n",
        "                face_img = detect_and_crop_face(img)\n",
        "                if face_img:\n",
        "                    face_img = face_img.resize((224, 224))\n",
        "                    if face_img.mode == 'RGBA' or 'alpha' in face_img.getbands():\n",
        "                        face_img = face_img.convert('RGB')\n",
        "                    test_images.append(np.array(face_img))\n",
        "                    test_labels.append(labels[file_name])\n",
        "                    test_image_files.append(file_name)\n",
        "\n",
        "    print('Number of test images processed:', len(test_images))\n",
        "    return np.array(test_images), np.array(test_labels), test_image_files\n",
        "\n",
        "# Load and preprocess the test data\n",
        "test_images, test_labels, test_image_files = load_and_preprocess_test_data(test_folder, labels_file)\n",
        "\n",
        "# Check if test_images is not None\n",
        "if test_images is not None:\n",
        "    # Preprocess and predict\n",
        "    test_images_preprocessed = preprocess_input(test_images)\n",
        "    predictions = model.predict(test_images_preprocessed)\n",
        "    predicted_labels = np.argmax(predictions, axis=1)\n",
        "\n",
        "    # Calculate accuracy\n",
        "    test_labels_indices = [train_generator.class_indices[label] for label in test_labels]\n",
        "    accuracy = np.mean(predicted_labels == test_labels_indices)\n",
        "    print(f\"Test Accuracy: {accuracy:.4f}\")\n",
        "\n",
        "    # Assuming 'train_generator' is your training data generator\n",
        "    class_indices = train_generator.class_indices\n",
        "    index_to_label = {v: k for k, v in class_indices.items()}\n",
        "\n",
        "    # Display predictions\n",
        "    for i in range(len(test_images)):\n",
        "        predicted_label = index_to_label.get(predicted_labels[i], \"N/A\")\n",
        "        true_label = test_labels[i]\n",
        "        file_name = test_image_files[i]\n",
        "\n",
        "        print(f\"Image {i}: Filename = {file_name}, True Label = {true_label}, Predicted Label = {predicted_label}\")\n",
        "else:\n",
        "    print(\"Script exited due to no test images processed.\")\n"
      ],
      "metadata": {
        "id": "yxVysdmkgXlh",
        "colab": {
          "base_uri": "https://localhost:8080/"
        },
        "outputId": "e72385c5-ac73-4526-c709-c6e722775734"
      },
      "execution_count": null,
      "outputs": [
        {
          "output_type": "stream",
          "name": "stdout",
          "text": [
            "Number of test images processed: 127\n",
            "4/4 [==============================] - 32s 6s/step\n",
            "Test Accuracy: 0.9055\n",
            "Image 0: Filename = 76_0.jpeg, True Label = Ruthu, Predicted Label = Aparnaa\n",
            "Image 1: Filename = 29_0.jpeg, True Label = Haochen, Predicted Label = Haochen\n",
            "Image 2: Filename = 133_0.jpeg, True Label = Zhiyu, Predicted Label = Zhiyu\n",
            "Image 3: Filename = 99_0.jpeg, True Label = Varshit, Predicted Label = Varshit\n",
            "Image 4: Filename = 16_0.jpeg, True Label = Dheeraj, Predicted Label = Dheeraj\n",
            "Image 5: Filename = 5_0.jpeg, True Label = Aparnaa, Predicted Label = Aparnaa\n",
            "Image 6: Filename = 62_0.jpeg, True Label = Pooja, Predicted Label = Pooja\n",
            "Image 7: Filename = 57_0.jpeg, True Label = Peiqi, Predicted Label = Peiqi\n",
            "Image 8: Filename = 137_0.jpeg, True Label = Zhiyu, Predicted Label = Zhiyu\n",
            "Image 9: Filename = 50_0.jpeg, True Label = Madhuri, Predicted Label = Madhuri\n",
            "Image 10: Filename = 89_0.jpeg, True Label = ShreyaDevendra, Predicted Label = ShreyaDevendra\n",
            "Image 11: Filename = 41_0.jpeg, True Label = Husain, Predicted Label = Husain\n",
            "Image 12: Filename = 101_0.jpeg, True Label = Varshit, Predicted Label = Varshit\n",
            "Image 13: Filename = 73_0.jpeg, True Label = Qihui, Predicted Label = Qihui\n",
            "Image 14: Filename = 114_0.jpeg, True Label = Xinze, Predicted Label = Xinze\n",
            "Image 15: Filename = 14_0.jpeg, True Label = Dheeraj, Predicted Label = Dheeraj\n",
            "Image 16: Filename = 121_0.jpeg, True Label = Yash, Predicted Label = ShreyaDevendra\n",
            "Image 17: Filename = 20_0.jpeg, True Label = Divyanth, Predicted Label = Divyanth\n",
            "Image 18: Filename = 38_0.jpeg, True Label = Husain, Predicted Label = Husain\n",
            "Image 19: Filename = 64_0.jpeg, True Label = Pooja, Predicted Label = Pooja\n",
            "Image 20: Filename = 97_0.jpeg, True Label = Shubham, Predicted Label = Shubham\n",
            "Image 21: Filename = 28_0.jpeg, True Label = Haochen, Predicted Label = Haochen\n",
            "Image 22: Filename = 123_0.jpeg, True Label = Yash, Predicted Label = Yash\n",
            "Image 23: Filename = 75_0.jpeg, True Label = Ruthu, Predicted Label = Ruthu\n",
            "Image 24: Filename = 72_0.jpeg, True Label = Qihui, Predicted Label = Qihui\n",
            "Image 25: Filename = 116_0.jpeg, True Label = Xinze, Predicted Label = Xinze\n",
            "Image 26: Filename = 134_0.jpeg, True Label = Zhiyu, Predicted Label = Haisong\n",
            "Image 27: Filename = 19_0.jpeg, True Label = Divyanth, Predicted Label = Divyanth\n",
            "Image 28: Filename = 100_0.jpeg, True Label = Varshit, Predicted Label = Varshit\n",
            "Image 29: Filename = 59_0.jpeg, True Label = Peiqi, Predicted Label = Peiqi\n",
            "Image 30: Filename = 22_0.jpeg, True Label = Griffin, Predicted Label = Griffin\n",
            "Image 31: Filename = 15_0.jpeg, True Label = Dheeraj, Predicted Label = Dheeraj\n",
            "Image 32: Filename = 31_0.jpeg, True Label = Haochen, Predicted Label = Xinze\n",
            "Image 33: Filename = 40_0.jpeg, True Label = Husain, Predicted Label = Husain\n",
            "Image 34: Filename = 74_0.jpeg, True Label = Ruthu, Predicted Label = Ruthu\n",
            "Image 35: Filename = 122_0.jpeg, True Label = Yash, Predicted Label = Yash\n",
            "Image 36: Filename = 51_0.jpeg, True Label = Madhuri, Predicted Label = Madhuri\n",
            "Image 37: Filename = 80_0.jpeg, True Label = Samyuktha, Predicted Label = Samyuktha\n",
            "Image 38: Filename = 118_0.jpeg, True Label = Xinze, Predicted Label = Xinze\n",
            "Image 39: Filename = 132_0.jpeg, True Label = Zexin, Predicted Label = Zexin\n",
            "Image 40: Filename = 98_0.jpeg, True Label = Shubham, Predicted Label = Shubham\n",
            "Image 41: Filename = 61_0.jpeg, True Label = Pooja, Predicted Label = Pooja\n",
            "Image 42: Filename = 8_0.jpeg, True Label = Aparnaa, Predicted Label = Aparnaa\n",
            "Image 43: Filename = 27_0.jpeg, True Label = Haisong, Predicted Label = Haisong\n",
            "Image 44: Filename = 103_0.jpeg, True Label = Varshit, Predicted Label = Varshit\n",
            "Image 45: Filename = 63_0.jpeg, True Label = Pooja, Predicted Label = Prachi\n",
            "Image 46: Filename = 18_0.jpeg, True Label = Divyanth, Predicted Label = Divyanth\n",
            "Image 47: Filename = 23_0.jpeg, True Label = Griffin, Predicted Label = Griffin\n",
            "Image 48: Filename = 87_0.jpeg, True Label = ShreyaDevendra, Predicted Label = ShreyaDevendra\n",
            "Image 49: Filename = 81_0.jpeg, True Label = Samyuktha, Predicted Label = Samyuktha\n",
            "Image 50: Filename = 136_0.jpeg, True Label = Zhiyu, Predicted Label = Zhiyu\n",
            "Image 51: Filename = 30_0.jpeg, True Label = Haochen, Predicted Label = Haochen\n",
            "Image 52: Filename = 7_0.jpeg, True Label = Aparnaa, Predicted Label = Aparnaa\n",
            "Image 53: Filename = 58_0.jpeg, True Label = Peiqi, Predicted Label = Zhiyu\n",
            "Image 54: Filename = 119_0.jpeg, True Label = Yash, Predicted Label = Yash\n",
            "Image 55: Filename = 77_0.jpeg, True Label = Ruthu, Predicted Label = Ruthu\n",
            "Image 56: Filename = 37_0.jpeg, True Label = Husain, Predicted Label = Husain\n",
            "Image 57: Filename = 70_0.jpeg, True Label = Qihui, Predicted Label = Qihui\n",
            "Image 58: Filename = 26_0.jpeg, True Label = Haisong, Predicted Label = Haisong\n",
            "Image 59: Filename = 120_0.jpeg, True Label = Yash, Predicted Label = Yash\n",
            "Image 60: Filename = 65_0.jpeg, True Label = Pooja, Predicted Label = Pooja\n",
            "Image 61: Filename = 39_0.jpeg, True Label = Husain, Predicted Label = Husain\n",
            "Image 62: Filename = 60_0.jpeg, True Label = Peiqi, Predicted Label = Haisong\n",
            "Image 63: Filename = 135_0.jpeg, True Label = Zhiyu, Predicted Label = Zhiyu\n",
            "Image 64: Filename = 82_0.jpeg, True Label = Samyuktha, Predicted Label = Samyuktha\n",
            "Image 65: Filename = 88_0.jpeg, True Label = ShreyaDevendra, Predicted Label = ShreyaDevendra\n",
            "Image 66: Filename = 117_0.jpeg, True Label = Xinze, Predicted Label = Xinze\n",
            "Image 67: Filename = 21_0.jpeg, True Label = Divyanth, Predicted Label = Divyanth\n",
            "Image 68: Filename = 6_0.jpeg, True Label = Aparnaa, Predicted Label = Aparnaa\n",
            "Image 69: Filename = 102_0.jpeg, True Label = Varshit, Predicted Label = Varshit\n",
            "Image 70: Filename = 4_0.jpeg, True Label = Anirudh, Predicted Label = Anirudh\n",
            "Image 71: Filename = 66_0.jpeg, True Label = Prachi, Predicted Label = Prachi\n",
            "Image 72: Filename = 49_0.jpeg, True Label = Kimsong, Predicted Label = Kimsong\n",
            "Image 73: Filename = 112_0.jpeg, True Label = Wei, Predicted Label = Wei\n",
            "Image 74: Filename = 95_0.jpeg, True Label = Shreyas, Predicted Label = Shreyas\n",
            "Image 75: Filename = 126_0.jpeg, True Label = Yuhang, Predicted Label = Yuhang\n",
            "Image 76: Filename = 17_0.jpeg, True Label = Divyanth, Predicted Label = Divyanth\n",
            "Image 77: Filename = 12_0.jpeg, True Label = Chen, Predicted Label = Chen\n",
            "Image 78: Filename = 125_0.jpeg, True Label = Yuhang, Predicted Label = Yuhang\n",
            "Image 79: Filename = 36_0.jpeg, True Label = Huiyu, Predicted Label = Huiyu\n",
            "Image 80: Filename = 25_0.jpeg, True Label = Haisong, Predicted Label = Haisong\n",
            "Image 81: Filename = 115_0.jpeg, True Label = Xinze, Predicted Label = Xinze\n",
            "Image 82: Filename = 56_0.jpeg, True Label = Peiqi, Predicted Label = Peiqi\n",
            "Image 83: Filename = 71_0.jpeg, True Label = Qihui, Predicted Label = Qihui\n",
            "Image 84: Filename = 54_0.jpeg, True Label = Manya, Predicted Label = Manya\n",
            "Image 85: Filename = 83_0.jpeg, True Label = ShreyaChinthala, Predicted Label = ShreyaChinthala\n",
            "Image 86: Filename = 107_0.jpeg, True Label = Wagawaththa, Predicted Label = Wagawaththa\n",
            "Image 87: Filename = 1_0.jpeg, True Label = Anirudh, Predicted Label = Anirudh\n",
            "Image 88: Filename = 109_0.jpeg, True Label = Wei, Predicted Label = Wei\n",
            "Image 89: Filename = 33_0.jpeg, True Label = Huiyu, Predicted Label = Huiyu\n",
            "Image 90: Filename = 78_0.jpeg, True Label = Samyuktha, Predicted Label = Samyuktha\n",
            "Image 91: Filename = 108_0.jpeg, True Label = Wagawaththa, Predicted Label = Wagawaththa\n",
            "Image 92: Filename = 10_0.jpeg, True Label = Chen, Predicted Label = Zhiyu\n",
            "Image 93: Filename = 79_0.jpeg, True Label = Samyuktha, Predicted Label = Samyuktha\n",
            "Image 94: Filename = 93_0.jpeg, True Label = Shreyas, Predicted Label = Shreyas\n",
            "Image 95: Filename = 42_0.jpeg, True Label = Kaiyue, Predicted Label = Kaiyue\n",
            "Image 96: Filename = 68_0.jpeg, True Label = Prachi, Predicted Label = Prachi\n",
            "Image 97: Filename = 110_0.jpeg, True Label = Wei, Predicted Label = Wei\n",
            "Image 98: Filename = 128_0.jpeg, True Label = Zexin, Predicted Label = Zexin\n",
            "Image 99: Filename = 48_0.jpeg, True Label = Kimsong, Predicted Label = Kimsong\n",
            "Image 100: Filename = 92_0.jpeg, True Label = Shreyas, Predicted Label = Shreyas\n",
            "Image 101: Filename = 32_0.jpeg, True Label = Huiyu, Predicted Label = Huiyu\n",
            "Image 102: Filename = 105_0.jpeg, True Label = Wagawaththa, Predicted Label = Wagawaththa\n",
            "Image 103: Filename = 9_0.jpeg, True Label = Chen, Predicted Label = Chen\n",
            "Image 104: Filename = 129_0.jpeg, True Label = Zexin, Predicted Label = Zexin\n",
            "Image 105: Filename = 104_0.jpeg, True Label = Wagawaththa, Predicted Label = Wagawaththa\n",
            "Image 106: Filename = 3_0.jpeg, True Label = Anirudh, Predicted Label = Anirudh\n",
            "Image 107: Filename = 84_0.jpeg, True Label = ShreyaChinthala, Predicted Label = ShreyaChinthala\n",
            "Image 108: Filename = 106_0.jpeg, True Label = Wagawaththa, Predicted Label = Wagawaththa\n",
            "Image 109: Filename = 45_0.jpeg, True Label = Kimsong, Predicted Label = Kimsong\n",
            "Image 110: Filename = 13_0.jpeg, True Label = Chen, Predicted Label = Chen\n",
            "Image 111: Filename = 35_0.jpeg, True Label = Huiyu, Predicted Label = Huiyu\n",
            "Image 112: Filename = 127_0.jpeg, True Label = Yuhang, Predicted Label = Yuhang\n",
            "Image 113: Filename = 86_0.jpeg, True Label = ShreyaChinthala, Predicted Label = ShreyaChinthala\n",
            "Image 114: Filename = 113_0.jpeg, True Label = Wei, Predicted Label = Wei\n",
            "Image 115: Filename = 96_0.jpeg, True Label = Shreyas, Predicted Label = Shubham\n",
            "Image 116: Filename = 24_0.jpeg, True Label = Haisong, Predicted Label = Haisong\n",
            "Image 117: Filename = 69_0.jpeg, True Label = Prachi, Predicted Label = Aparnaa\n",
            "Image 118: Filename = 67_0.jpeg, True Label = Prachi, Predicted Label = Aparnaa\n",
            "Image 119: Filename = 34_0.jpeg, True Label = Huiyu, Predicted Label = Huiyu\n",
            "Image 120: Filename = 130_0.jpeg, True Label = Zexin, Predicted Label = Zexin\n",
            "Image 121: Filename = 2_0.jpeg, True Label = Anirudh, Predicted Label = Yash\n",
            "Image 122: Filename = 94_0.jpeg, True Label = Shreyas, Predicted Label = Shreyas\n",
            "Image 123: Filename = 131_0.jpeg, True Label = Zexin, Predicted Label = Zexin\n",
            "Image 124: Filename = 111_0.jpeg, True Label = Wei, Predicted Label = Wei\n",
            "Image 125: Filename = 11_0.jpeg, True Label = Chen, Predicted Label = Chen\n",
            "Image 126: Filename = 55_0.jpeg, True Label = Manya, Predicted Label = Manya\n"
          ]
        }
      ]
    }
  ]
}